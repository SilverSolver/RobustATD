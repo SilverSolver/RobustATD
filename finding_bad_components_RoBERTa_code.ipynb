{
 "cells": [
  {
   "cell_type": "code",
   "execution_count": 1,
   "id": "dbe3d52d",
   "metadata": {},
   "outputs": [],
   "source": [
    "import numpy as np\n",
    "import pandas as pd\n",
    "import random\n",
    "\n",
    "import torch\n",
    "import torch.nn as nn\n",
    "import re\n",
    "import pickle as pk\n",
    "\n",
    "from sklearn.model_selection import cross_validate\n",
    "from sklearn.linear_model import LogisticRegression, LinearRegression\n",
    "from transformers import AutoTokenizer, AutoModel#RobertaTokenizer, RobertaModel\n",
    "from scipy.spatial.distance import cdist\n",
    "\n",
    "from sklearn.utils import shuffle\n",
    "\n",
    "from tqdm import tqdm\n",
    "\n",
    "import matplotlib.pyplot as plt\n",
    "import matplotlib as mpl\n",
    "\n",
    "np.random.seed(42)\n",
    "random.seed(42)"
   ]
  },
  {
   "cell_type": "code",
   "execution_count": 2,
   "id": "96c0eb74",
   "metadata": {},
   "outputs": [],
   "source": [
    "import warnings\n",
    "warnings.simplefilter('ignore', UserWarning)"
   ]
  },
  {
   "cell_type": "code",
   "execution_count": 3,
   "id": "cd99f39b",
   "metadata": {},
   "outputs": [],
   "source": [
    "DEVICE = \"cuda:0\"\n",
    "TEST_SPAN = 500, 1000"
   ]
  },
  {
   "cell_type": "markdown",
   "id": "c0397cfc",
   "metadata": {},
   "source": [
    "### Loading files and model"
   ]
  },
  {
   "cell_type": "code",
   "execution_count": 4,
   "id": "571332fb",
   "metadata": {},
   "outputs": [],
   "source": [
    "def make_cls():\n",
    "    classifier = LogisticRegression()\n",
    "    return classifier"
   ]
  },
  {
   "cell_type": "code",
   "execution_count": 5,
   "id": "61367c3f",
   "metadata": {},
   "outputs": [],
   "source": [
    "stackexchange_path_gpt3 = \"../data/davinci_generation/gpt3_davinci_003_300_len_stackexchange.jsonl\"\n",
    "reddit_path_gpt3 = \"../data/davinci_generation/gpt3_davinci_003_300_len_reddit.jsonl\"\n",
    "wiki_path_gpt3 = \"../data/davinci_generation/gpt3_davinci_003_300_len_wiki.jsonl\""
   ]
  },
  {
   "cell_type": "code",
   "execution_count": 6,
   "id": "6d8b0555",
   "metadata": {
    "scrolled": true
   },
   "outputs": [],
   "source": [
    "df_gpt3_w = pd.read_json(wiki_path_gpt3, lines=True)[:1500]\n",
    "df_gpt3_r = pd.read_json(reddit_path_gpt3, lines=True)[:1500]\n",
    "df_gpt3_s = pd.read_json(stackexchange_path_gpt3, lines=True)[:1500]"
   ]
  },
  {
   "cell_type": "code",
   "execution_count": 7,
   "id": "356c3ff5",
   "metadata": {},
   "outputs": [
    {
     "name": "stderr",
     "output_type": "stream",
     "text": [
      "Some weights of RobertaModel were not initialized from the model checkpoint at roberta-base and are newly initialized: ['roberta.pooler.dense.bias', 'roberta.pooler.dense.weight']\n",
      "You should probably TRAIN this model on a down-stream task to be able to use it for predictions and inference.\n"
     ]
    }
   ],
   "source": [
    "model_path = 'roberta-base'#'bert-base-uncased'\n",
    "tokenizer_path = model_path\n",
    "\n",
    "tokenizer = AutoTokenizer.from_pretrained(tokenizer_path)\n",
    "model = AutoModel.from_pretrained(model_path, output_hidden_states=True)\n",
    "model = model.to(DEVICE)"
   ]
  },
  {
   "cell_type": "markdown",
   "id": "bbe88531",
   "metadata": {},
   "source": [
    "### Extracting embeddings"
   ]
  },
  {
   "cell_type": "code",
   "execution_count": 8,
   "id": "41fdbc11",
   "metadata": {},
   "outputs": [],
   "source": [
    "def text_preprocessing(text):\n",
    "    \n",
    "    # Remove trailing whitespace\n",
    "    text = re.sub(r'\\s+', ' ', text).strip()\n",
    "\n",
    "    return text"
   ]
  },
  {
   "cell_type": "code",
   "execution_count": 9,
   "id": "e8353a9c",
   "metadata": {},
   "outputs": [],
   "source": [
    "def get_mean(df, key='text', real=True, verbose=True):\n",
    "    dims, lens = [], []\n",
    "    if verbose:\n",
    "        iterable = tqdm(df[key])\n",
    "    else:\n",
    "        iterable = df[key]\n",
    "    for ss in iterable:\n",
    "        if not real:\n",
    "            sss = ss[0]\n",
    "        else:\n",
    "            sss = ss\n",
    "        sss = text_preprocessing(sss)\n",
    "\n",
    "        inputs = tokenizer(sss, truncation=True, max_length=512, return_tensors=\"pt\")\n",
    "        inputs = inputs.to(DEVICE)\n",
    "        with torch.no_grad():\n",
    "            outp = model(**inputs)       \n",
    "\n",
    "        dims.append(np.mean(outp[0].cpu().numpy()[0, :], axis=0))\n",
    "        lens.append(outp[0].shape[1])\n",
    "    \n",
    "    return np.array(dims), lens"
   ]
  },
  {
   "cell_type": "code",
   "execution_count": 10,
   "id": "7d1c792f",
   "metadata": {},
   "outputs": [
    {
     "name": "stderr",
     "output_type": "stream",
     "text": [
      "100%|███████████████████████████████████████████████████████████████████████████████████████████████████████████████████████████████████████████████████████████████████| 1500/1500 [00:11<00:00, 125.38it/s]\n",
      "100%|████████████████████████████████████████████████████████████████████████████████████████████████████████████████████████████████████████████████████████████████████| 1500/1500 [00:19<00:00, 75.55it/s]\n",
      "100%|███████████████████████████████████████████████████████████████████████████████████████████████████████████████████████████████████████████████████████████████████| 1500/1500 [00:13<00:00, 109.33it/s]\n",
      "100%|███████████████████████████████████████████████████████████████████████████████████████████████████████████████████████████████████████████████████████████████████| 1500/1500 [00:11<00:00, 135.45it/s]\n",
      "100%|███████████████████████████████████████████████████████████████████████████████████████████████████████████████████████████████████████████████████████████████████| 1500/1500 [00:14<00:00, 101.27it/s]\n",
      "100%|████████████████████████████████████████████████████████████████████████████████████████████████████████████████████████████████████████████████████████████████████| 1500/1500 [00:19<00:00, 76.09it/s]\n"
     ]
    }
   ],
   "source": [
    "cls_gpt_w_3, lens_gpt_w_3 = get_mean(df_gpt3_w, 'gen_completion', real=True)\n",
    "cls_human_w_3, lens_human_w_3 = get_mean(df_gpt3_w, 'gold_completion', real=True)\n",
    "\n",
    "cls_gpt_r_3, lens_gpt_r_3 = get_mean(df_gpt3_r, 'gen_completion', real=True)\n",
    "cls_human_r_3, lens_human_r_3 = get_mean(df_gpt3_r, 'gold_completion', real=True)\n",
    "\n",
    "cls_gpt_s_3, lens_gpt_s_3 = get_mean(df_gpt3_s, 'gen_completion', real=True)\n",
    "cls_human_s_3, lens_human_s_3 = get_mean(df_gpt3_s, 'gold_completion', real=True)"
   ]
  },
  {
   "cell_type": "code",
   "execution_count": 11,
   "id": "0c49cc9f",
   "metadata": {},
   "outputs": [],
   "source": [
    "X_train_sets = {\"gpt_wikipedia\": (cls_gpt_w_3, cls_human_w_3),\n",
    "                \"gpt_reddit\": (cls_gpt_r_3, cls_human_r_3), \n",
    "                \"gpt_stackexchange\": (cls_gpt_s_3, cls_human_s_3)}\n",
    "\n",
    "X_test_sets = {}\n",
    "for key in X_train_sets.keys():\n",
    "    X_test_sets[key] = (X_train_sets[key][0][TEST_SPAN[0]:TEST_SPAN[1]], \n",
    "                        X_train_sets[key][1][TEST_SPAN[0]:TEST_SPAN[1]])"
   ]
  },
  {
   "cell_type": "markdown",
   "id": "81bd2446",
   "metadata": {},
   "source": [
    "## Finding the components to remove"
   ]
  },
  {
   "cell_type": "code",
   "execution_count": 12,
   "id": "553b4c14",
   "metadata": {},
   "outputs": [],
   "source": [
    "def exclude_dims(embs, dims_to_exclude):\n",
    "    # Excluding some dimensions from embeddings array\n",
    "    mask = [True] * embs.shape[1]\n",
    "    for dim in dims_to_exclude:\n",
    "        mask[dim] = False\n",
    "    result_embs = np.transpose(embs)\n",
    "    result_embs = result_embs[mask]\n",
    "    result_embs = np.transpose(result_embs)\n",
    "    return result_embs"
   ]
  },
  {
   "cell_type": "code",
   "execution_count": 13,
   "id": "82ec60af",
   "metadata": {},
   "outputs": [],
   "source": [
    "models_for_greedy_search = [\"gpt_reddit\", \"gpt_wikipedia\"]#[\"gpt_wikipedia\", \"gpt_reddit\"]#"
   ]
  },
  {
   "cell_type": "code",
   "execution_count": 14,
   "id": "91e06e8a",
   "metadata": {},
   "outputs": [
    {
     "name": "stderr",
     "output_type": "stream",
     "text": [
      "100%|████████████████████████████████████████████████████████████████████████████████████████████████████████████████████████████████████████████████████████████████████| 767/767 [4:40:57<00:00, 21.98s/it]\n"
     ]
    }
   ],
   "source": [
    "removed_dims_and_acc = dict() # For greedy algorithm results\n",
    "dims_to_exclude = []\n",
    "\n",
    "current_X_train = X_train_sets[models_for_greedy_search[0]]\n",
    "current_X_test  = X_test_sets[models_for_greedy_search[0]]\n",
    "current_X_ood   = X_train_sets[models_for_greedy_search[1]]\n",
    "\n",
    "for _ in tqdm(range(current_X_train[0].shape[1] - 1)):\n",
    "    # We are going through components-candidates for removal and checking the results\n",
    "    ood_quality_by_coord = dict()\n",
    "    test_quality_by_coord = dict()\n",
    "    dims_to_exclude_set = set(dims_to_exclude)\n",
    "    for coord in range(current_X_train[0].shape[1]):\n",
    "        if coord not in dims_to_exclude_set:\n",
    "            \n",
    "            X_train = exclude_dims(np.vstack([current_X_train[0][:TEST_SPAN[0]], \n",
    "                                              current_X_train[1][:TEST_SPAN[0]]]), dims_to_exclude + [coord])\n",
    "            TRAIN_SIZE = current_X_train[0][:TEST_SPAN[0]].shape[0]\n",
    "            y_train = np.hstack([np.zeros(TRAIN_SIZE), np.ones(TRAIN_SIZE)])\n",
    "\n",
    "            X_test = exclude_dims(np.vstack([current_X_test[0], \n",
    "                                             current_X_test[1]]), dims_to_exclude + [coord])\n",
    "            y_test = np.hstack([np.zeros(len(current_X_test[0])), \n",
    "                                np.ones(len(current_X_test[1]))])\n",
    "            \n",
    "            X_ood  = exclude_dims(np.vstack([current_X_ood[0], \n",
    "                                             current_X_ood[1]]), dims_to_exclude + [coord])\n",
    "            y_ood  = np.hstack([np.zeros(len(current_X_ood[0])), \n",
    "                                np.ones(len(current_X_ood[1]))])\n",
    "\n",
    "            lrr = LogisticRegression(max_iter=100)\n",
    "            lrr.fit(X_train, y_train)\n",
    "\n",
    "            ood_score = lrr.score(X_ood, y_ood)\n",
    "            test_score = lrr.score(X_test, y_test)\n",
    "            \n",
    "            #We check how removing the coordinate influenced the transferability\n",
    "            ood_quality_by_coord[ood_score] = coord\n",
    "            test_quality_by_coord[test_score] = coord\n",
    "    best_ood_acc = max(ood_quality_by_coord.keys())\n",
    "    best_coord = ood_quality_by_coord[best_ood_acc]\n",
    "    best_test_acc = -1\n",
    "    for key in test_quality_by_coord:\n",
    "        if test_quality_by_coord[key] == best_coord:\n",
    "            best_test_acc = key\n",
    "    dims_to_exclude.append(best_coord)\n",
    "    removed_dims_and_acc[tuple(dims_to_exclude)] = (best_ood_acc, best_test_acc)"
   ]
  },
  {
   "cell_type": "markdown",
   "id": "6d0f4ed3",
   "metadata": {},
   "source": [
    "### Accuracy depending on the amount of removed components"
   ]
  },
  {
   "cell_type": "code",
   "execution_count": 15,
   "id": "1d83b05f",
   "metadata": {},
   "outputs": [
    {
     "data": {
      "image/png": "[encoded data removed]",
      "text/plain": [
       "<Figure size 1000x600 with 1 Axes>"
      ]
     },
     "metadata": {},
     "output_type": "display_data"
    }
   ],
   "source": [
    "plt.figure(figsize=(10, 6))\n",
    "plt.plot(list(map(lambda x:x[0], removed_dims_and_acc.values())))\n",
    "plt.show()"
   ]
  },
  {
   "cell_type": "markdown",
   "id": "d60c6af4",
   "metadata": {},
   "source": [
    "### Results to be used in other scripts"
   ]
  },
  {
   "cell_type": "code",
   "execution_count": 16,
   "id": "31c29a8f",
   "metadata": {},
   "outputs": [
    {
     "name": "stdout",
     "output_type": "stream",
     "text": [
      "(330, 551, 77, 217, 664, 61, 286, 751, 709, 759, 736, 766, 577, 744, 746, 717, 762, 767, 742, 725, 715, 708, 757, 726, 722, 721, 723, 692, 761, 755, 711, 713, 760, 724, 620, 719, 681, 730, 758, 686, 728, 718, 640, 700, 710, 671, 669, 697, 673, 704, 676, 659, 657, 668, 654, 660, 677, 658, 648, 642, 629, 644, 680, 602, 597, 649, 555, 581, 579, 605, 628, 691, 729, 274, 651, 609, 763, 515, 748, 703, 632, 685, 675, 626, 650, 423, 593, 584, 571, 537, 547, 590, 494, 543, 566, 531, 535, 525, 522, 493, 501, 466, 500, 509, 458, 391, 360, 444, 619, 653, 621, 524, 565, 474, 462, 471, 487, 416, 354, 480, 583, 510, 553, 484, 706, 690, 630, 665, 638, 687, 508, 737, 293, 636, 635, 616, 282, 424, 75, 492, 754, 753, 139, 738, 702, 18, 587, 534, 102, 478, 328, 696, 311, 734, 740, 633, 743, 634, 607, 603, 682, 670, 645, 20, 594, 698, 612, 548, 149, 223, 701, 707, 739, 688, 712, 683, 613, 239, 705, 639, 601, 576, 747, 610, 575, 631, 618, 591, 59, 556, 507, 578, 516, 497, 532, 552, 695, 646, 563, 558, 514, 505, 506, 495, 477, 469, 482, 479, 512, 489, 481, 622, 475, 437, 436, 513, 428, 435, 455, 476, 413, 407, 405, 371, 355, 352, 614, 463, 457, 637, 549, 483, 459, 485, 600, 464, 418, 395, 383, 382, 401, 336, 370, 567, 490, 441, 440, 340, 322, 367, 338, 426, 362, 486, 598, 528, 572, 447, 533, 465, 562, 402, 389, 415, 412, 332, 460, 425, 559, 381, 384, 313, 427, 305, 377, 358, 341, 304, 298, 285, 288, 337, 300, 504, 385, 433, 394, 369, 429, 329, 303, 320, 267, 281, 307, 315, 314, 271, 296, 302, 272, 270, 237, 249, 230, 284, 253, 269, 250, 146, 244, 363, 260, 211, 246, 204, 190, 241, 196, 187, 186, 181, 173, 266, 294, 221, 309, 152, 273, 346, 145, 177, 431, 275, 291, 133, 256, 184, 129, 126, 160, 110, 292, 400, 290, 456, 161, 182, 245, 254, 143, 135, 134, 114, 101, 125, 96, 92, 118, 220, 452, 215, 517, 434, 625, 541, 349, 171, 16, 585, 545, 379, 716, 661, 347, 672, 540, 745, 546, 520, 420, 268, 240, 365, 201, 251, 95, 488, 699, 117, 470, 523, 521, 574, 503, 589, 518, 334, 392, 623, 582, 544, 491, 310, 316, 561, 526, 421, 689, 86, 408, 170, 108, 530, 454, 732, 406, 450, 357, 399, 560, 372, 342, 243, 321, 234, 156, 168, 387, 72, 164, 308, 89, 66, 109, 56, 53, 32, 140, 104, 88, 107, 361, 36, 374, 378, 257, 615, 203, 448, 80, 277, 130, 54, 48, 6, 113, 212, 43, 229, 432, 376, 34, 289, 568, 442, 319, 345, 228, 210, 323, 112, 502, 41, 73, 200, 188, 172, 121, 366, 499, 207, 174, 81, 242, 592, 396, 299, 132, 154, 119, 49, 127, 65, 70, 98, 35, 343, 52, 2, 224, 326, 375, 335, 312, 162, 123, 0, 120, 403, 356, 147, 83, 197, 128, 569, 138, 287, 262, 208, 529, 252, 191, 137, 141, 445, 388, 247, 765, 276, 26, 461, 255, 368, 417, 467, 393, 339, 542, 279, 105, 238, 227, 693, 222, 226, 9, 136, 7, 99, 667, 438, 414, 663, 206, 656, 627, 348, 258, 116, 364, 63, 106, 90, 194, 131, 219, 731, 749, 608, 214, 611, 380, 306, 536, 248, 44, 410, 641, 411, 317, 764, 40, 409, 155, 22, 259, 498, 331, 45, 51, 64, 192, 153, 350, 93, 280, 344, 318, 261, 37, 144, 225, 617, 47, 94, 325, 198, 216, 295, 643, 14, 39, 158, 327, 163, 741, 550, 150, 25, 19, 727, 557, 12, 178, 301, 595, 76, 50, 31, 539, 236, 57, 263, 1, 735, 148, 84, 100, 62, 599, 175, 449, 756, 439, 166, 386, 209, 652, 404, 11, 351, 179, 151, 69, 185, 167, 283, 142, 714, 79, 183, 74, 3, 27, 42, 103, 684, 624, 538, 233, 33, 604, 554, 666, 199, 68, 180, 511, 647, 213, 674, 24, 157, 586, 430, 91, 422, 8, 46, 333, 111, 189, 231, 87, 419, 218, 468, 202, 519, 30, 580, 38, 29, 720, 750, 176, 564, 390, 278, 58, 588, 662, 359, 169, 443, 694, 165, 324, 472, 451, 297, 28, 78, 527, 205, 60)\n"
     ]
    },
    {
     "data": {
      "text/plain": [
       "(None, 727)"
      ]
     },
     "execution_count": 16,
     "metadata": {},
     "output_type": "execute_result"
    }
   ],
   "source": [
    "argmax_value = np.argmax(list(map(lambda x:x[0], removed_dims_and_acc.values())))\n",
    "print(list(removed_dims_and_acc.keys())[argmax_value]), len(list(removed_dims_and_acc.keys())[argmax_value])"
   ]
  },
  {
   "cell_type": "markdown",
   "id": "26413c73",
   "metadata": {},
   "source": [
    "# Put together dimensions to remove\n",
    "\n",
    "from \"gpt_reddit\" -> \"gpt_wikipedia\" and \"gpt_wikipedia\" -> \"gpt_reddit\" versions of this script"
   ]
  },
  {
   "cell_type": "code",
   "execution_count": 19,
   "id": "e2bad000",
   "metadata": {},
   "outputs": [
    {
     "name": "stdout",
     "output_type": "stream",
     "text": [
      "{0, 1, 3, 6, 7, 8, 9, 11, 12, 14, 16, 18, 19, 20, 22, 24, 25, 26, 27, 28, 29, 30, 31, 32, 33, 34, 35, 36, 37, 39, 40, 41, 42, 43, 44, 45, 46, 47, 48, 49, 50, 51, 52, 53, 54, 56, 57, 58, 59, 60, 61, 62, 63, 64, 65, 66, 68, 69, 70, 72, 73, 74, 75, 76, 77, 78, 79, 80, 81, 83, 84, 86, 87, 88, 89, 90, 91, 92, 93, 94, 95, 96, 98, 99, 100, 101, 102, 103, 104, 105, 106, 107, 108, 109, 110, 111, 112, 113, 114, 116, 117, 118, 119, 120, 121, 123, 125, 126, 127, 128, 129, 130, 131, 132, 133, 134, 135, 136, 137, 138, 139, 140, 141, 142, 143, 144, 145, 146, 147, 148, 149, 150, 151, 152, 153, 154, 155, 156, 158, 160, 162, 163, 164, 165, 166, 167, 168, 169, 170, 171, 172, 173, 174, 175, 176, 177, 178, 179, 180, 181, 182, 183, 184, 185, 186, 187, 188, 190, 191, 192, 194, 196, 197, 198, 199, 200, 201, 204, 205, 206, 207, 208, 209, 210, 211, 212, 213, 214, 215, 216, 217, 218, 219, 220, 221, 222, 223, 224, 225, 226, 227, 228, 229, 230, 231, 233, 234, 236, 237, 238, 239, 240, 241, 242, 243, 244, 245, 246, 247, 248, 249, 250, 251, 252, 253, 254, 255, 256, 257, 258, 260, 261, 262, 263, 266, 267, 268, 269, 270, 271, 272, 273, 274, 275, 276, 277, 278, 279, 280, 281, 282, 283, 284, 285, 286, 288, 289, 290, 292, 293, 294, 295, 296, 297, 298, 299, 300, 301, 302, 303, 304, 305, 306, 307, 308, 310, 311, 312, 313, 314, 315, 316, 317, 318, 319, 320, 321, 322, 323, 325, 327, 328, 329, 330, 331, 332, 333, 334, 335, 336, 337, 338, 339, 340, 341, 342, 343, 344, 345, 346, 347, 348, 349, 350, 351, 352, 354, 355, 356, 357, 358, 359, 360, 361, 362, 363, 364, 365, 366, 367, 368, 369, 370, 371, 372, 374, 375, 376, 377, 379, 380, 381, 382, 383, 384, 385, 386, 387, 388, 389, 390, 391, 392, 393, 394, 395, 396, 399, 400, 401, 402, 403, 404, 405, 406, 407, 408, 409, 410, 411, 412, 413, 414, 415, 416, 417, 418, 419, 420, 421, 422, 423, 424, 425, 426, 427, 428, 429, 430, 431, 432, 433, 434, 435, 436, 437, 438, 439, 440, 441, 442, 443, 444, 445, 447, 448, 449, 450, 451, 452, 455, 456, 457, 458, 459, 460, 461, 462, 463, 464, 465, 466, 467, 468, 469, 470, 471, 472, 474, 475, 476, 477, 478, 479, 480, 481, 482, 483, 484, 485, 486, 487, 488, 489, 490, 491, 492, 493, 494, 495, 497, 498, 499, 500, 501, 502, 503, 504, 505, 506, 507, 508, 509, 510, 511, 512, 513, 514, 515, 516, 517, 518, 519, 520, 521, 522, 523, 524, 525, 526, 527, 528, 529, 530, 531, 532, 533, 534, 535, 536, 537, 538, 539, 540, 541, 542, 543, 544, 545, 546, 547, 548, 549, 551, 552, 553, 554, 555, 556, 557, 558, 559, 560, 561, 562, 563, 564, 565, 566, 567, 568, 569, 571, 572, 574, 575, 576, 577, 578, 579, 580, 581, 582, 583, 584, 585, 586, 587, 588, 589, 590, 591, 592, 593, 594, 595, 597, 598, 599, 600, 601, 602, 603, 604, 605, 607, 608, 609, 610, 612, 613, 614, 615, 616, 617, 618, 619, 620, 621, 622, 623, 624, 625, 626, 627, 628, 629, 630, 631, 632, 633, 634, 635, 636, 637, 638, 639, 640, 641, 642, 643, 644, 645, 646, 647, 648, 649, 650, 651, 652, 653, 654, 656, 657, 658, 659, 660, 661, 662, 663, 664, 665, 666, 667, 668, 669, 670, 671, 672, 673, 674, 675, 676, 677, 680, 681, 682, 683, 684, 685, 686, 687, 688, 689, 690, 691, 692, 693, 694, 695, 696, 697, 698, 699, 700, 701, 702, 703, 704, 705, 706, 707, 708, 709, 710, 711, 712, 713, 714, 715, 716, 717, 718, 719, 720, 721, 722, 723, 724, 725, 726, 727, 728, 729, 730, 731, 732, 734, 735, 736, 737, 738, 739, 740, 741, 742, 743, 744, 745, 746, 747, 748, 749, 750, 751, 753, 754, 755, 756, 757, 758, 759, 760, 761, 762, 763, 764, 766, 767}\n",
      "709\n"
     ]
    }
   ],
   "source": [
    "to_remove_1 = (731, 624, 131, 219, 330, 749, 652, 764, 672, 685, 548, 541, 286, 528, 490, 634, 737, 538, 4, 686, 240, 368, 598, 559, 647, 730, 102, 397, 384, 269, 575, 320, 193, 394, 167, 278, 655, 484, 543, 229, 429, 370, 713, 288, 283, 703, 693, 303, 525, 313, 585, 149, 331, 675, 280, 366, 168, 558, 645, 166, 588, 446, 519, 467, 578, 29, 78, 75, 699, 47, 416, 465, 198, 683, 106, 491, 247, 342, 74, 687, 73, 225, 767, 766, 761, 759, 760, 755, 763, 754, 218, 747, 757, 744, 758, 742, 736, 746, 723, 719, 720, 710, 512, 273, 185, 365, 432, 355, 443, 623, 226, 694, 422, 762, 428, 660, 705, 659, 306, 608, 485, 130, 728, 407, 151, 176, 425, 740, 738, 665, 651, 497, 690, 531, 539, 221, 729, 726, 743, 90, 343, 510, 516, 327, 722, 62, 680, 668, 566, 622, 734, 712, 709, 350, 717, 745, 700, 697, 706, 704, 733, 718, 406, 333, 311, 613, 701, 557, 627, 676, 498, 328, 357, 572, 348, 619, 133, 644, 629, 630, 725, 696, 756, 213, 48, 653, 502, 667, 640, 295, 671, 663, 452, 435, 249, 603, 487, 708, 695, 681, 692, 716, 724, 554, 110, 707, 677, 688, 684, 391, 657, 642, 639, 638, 632, 636, 631, 621, 618, 542, 41, 404, 84, 727, 589, 282, 312, 511, 363, 517, 412, 601, 656, 635, 607, 244, 590, 111, 8, 351, 458, 615, 356, 421, 258, 401, 385, 584, 569, 620, 610, 576, 418, 513, 587, 593, 591, 555, 583, 579, 609, 654, 563, 545, 526, 504, 669, 552, 527, 520, 514, 522, 508, 509, 501, 533, 499, 494, 482, 479, 457, 411, 447, 396, 388, 390, 415, 488, 592, 641, 360, 395, 30, 377, 532, 426, 302, 617, 537, 544, 547, 299, 658, 515, 753, 437, 571, 567, 461, 637, 478, 449, 442, 445, 380, 372, 456, 431, 423, 440, 358, 500, 252, 298, 277, 344, 284, 556, 175, 470, 466, 507, 459, 460, 383, 408, 305, 420, 405, 336, 410, 163, 352, 334, 322, 290, 323, 480, 392, 332, 338, 308, 646, 628, 565, 469, 321, 455, 346, 393, 464, 118, 698, 337, 650, 316, 255, 462, 270, 493, 56, 506, 450, 463, 341, 430, 414, 424, 389, 228, 375, 382, 354, 386, 362, 319, 381, 263, 349, 371, 691, 602, 304, 279, 274, 289, 523, 616, 268, 246, 271, 266, 477, 347, 281, 242, 448, 227, 224, 220, 216, 207, 188, 315, 374, 260, 564, 369, 206, 186, 208, 170, 237, 179, 171, 169, 162, 160, 158, 317, 144, 146, 132, 103, 95, 81, 68, 113, 152, 138, 96, 89, 143, 121, 117, 257, 181, 253, 23, 153, 294, 192, 489, 230, 99, 39, 44, 36, 139, 33, 210, 92, 150, 24, 52, 27, 12, 18, 245, 250, 134, 200, 13, 196, 104, 293, 481, 711, 177, 184, 142, 367, 581, 297, 441, 172, 215, 98, 254, 88, 582, 140, 568, 741, 599, 222, 209, 53, 173, 417, 7, 3, 45, 136, 25, 148, 223, 476, 444, 495, 472, 427, 307, 505, 296, 127, 65, 147, 35, 1, 14, 72, 492, 0, 402, 70, 60, 400, 50, 471, 164, 105, 120, 156, 605, 66, 109, 673, 57, 190, 69, 141, 702, 51, 234, 530, 272, 256, 119, 6, 614, 86, 194, 626, 267, 180, 625, 101, 49, 145, 474, 275, 318, 241, 54, 108, 239, 42, 10, 191, 236, 135, 248, 37, 387, 214, 204, 549, 483, 715, 187, 182, 361, 329, 211, 43, 20, 434, 562, 128, 560, 238, 87, 26, 594, 574, 231, 94, 648, 114, 276, 751, 17, 199, 129, 503, 439, 301, 633, 643, 335, 91, 536, 529, 419, 314, 197, 22, 475, 32, 577, 612, 11, 714, 604, 40, 340, 399, 682, 9, 649, 661, 262, 524, 251, 58, 137, 178, 107, 413, 468, 16, 80, 19, 285, 34, 486, 195, 436, 112, 64, 122, 183, 59, 534, 438, 546, 561, 174, 535, 597, 721, 595, 670, 433, 165, 46, 243, 124, 63, 689, 83, 31, 212, 154, 521, 205, 310, 292, 116, 732, 403, 21, 739, 553, 28, 126, 123, 600, 77, 551, 496, 664, 570, 235, 217, 61, 233, 735, 674, 376, 359, 364, 662, 93, 159, 586, 748, 79, 666, 451, 606, 345, 580, 76, 379, 339, 155, 201, 100, 115, 125, 300, 752, 518, 540, 261, 409, 750, 373, 325)\n",
    "to_remove_2 = (330, 551, 77, 217, 664, 61, 286, 751, 709, 759, 736, 766, 577, 744, 746, 717, 762, 767, 742, 725, 715, 708, 757, 726, 722, 721, 723, 692, 761, 755, 711, 713, 760, 724, 620, 719, 681, 730, 758, 686, 728, 718, 640, 700, 710, 671, 669, 697, 673, 704, 676, 659, 657, 668, 654, 660, 677, 658, 648, 642, 629, 644, 680, 602, 597, 649, 555, 581, 579, 605, 628, 691, 729, 274, 651, 609, 763, 515, 748, 703, 632, 685, 675, 626, 650, 423, 593, 584, 571, 537, 547, 590, 494, 543, 566, 531, 535, 525, 522, 493, 501, 466, 500, 509, 458, 391, 360, 444, 619, 653, 621, 524, 565, 474, 462, 471, 487, 416, 354, 480, 583, 510, 553, 484, 706, 690, 630, 665, 638, 687, 508, 737, 293, 636, 635, 616, 282, 424, 75, 492, 754, 753, 139, 738, 702, 18, 587, 534, 102, 478, 328, 696, 311, 734, 740, 633, 743, 634, 607, 603, 682, 670, 645, 20, 594, 698, 612, 548, 149, 223, 701, 707, 739, 688, 712, 683, 613, 239, 705, 639, 601, 576, 747, 610, 575, 631, 618, 591, 59, 556, 507, 578, 516, 497, 532, 552, 695, 646, 563, 558, 514, 505, 506, 495, 477, 469, 482, 479, 512, 489, 481, 622, 475, 437, 436, 513, 428, 435, 455, 476, 413, 407, 405, 371, 355, 352, 614, 463, 457, 637, 549, 483, 459, 485, 600, 464, 418, 395, 383, 382, 401, 336, 370, 567, 490, 441, 440, 340, 322, 367, 338, 426, 362, 486, 598, 528, 572, 447, 533, 465, 562, 402, 389, 415, 412, 332, 460, 425, 559, 381, 384, 313, 427, 305, 377, 358, 341, 304, 298, 285, 288, 337, 300, 504, 385, 433, 394, 369, 429, 329, 303, 320, 267, 281, 307, 315, 314, 271, 296, 302, 272, 270, 237, 249, 230, 284, 253, 269, 250, 146, 244, 363, 260, 211, 246, 204, 190, 241, 196, 187, 186, 181, 173, 266, 294, 221, 309, 152, 273, 346, 145, 177, 431, 275, 291, 133, 256, 184, 129, 126, 160, 110, 292, 400, 290, 456, 161, 182, 245, 254, 143, 135, 134, 114, 101, 125, 96, 92, 118, 220, 452, 215, 517, 434, 625, 541, 349, 171, 16, 585, 545, 379, 716, 661, 347, 672, 540, 745, 546, 520, 420, 268, 240, 365, 201, 251, 95, 488, 699, 117, 470, 523, 521, 574, 503, 589, 518, 334, 392, 623, 582, 544, 491, 310, 316, 561, 526, 421, 689, 86, 408, 170, 108, 530, 454, 732, 406, 450, 357, 399, 560, 372, 342, 243, 321, 234, 156, 168, 387, 72, 164, 308, 89, 66, 109, 56, 53, 32, 140, 104, 88, 107, 361, 36, 374, 378, 257, 615, 203, 448, 80, 277, 130, 54, 48, 6, 113, 212, 43, 229, 432, 376, 34, 289, 568, 442, 319, 345, 228, 210, 323, 112, 502, 41, 73, 200, 188, 172, 121, 366, 499, 207, 174, 81, 242, 592, 396, 299, 132, 154, 119, 49, 127, 65, 70, 98, 35, 343, 52, 2, 224, 326, 375, 335, 312, 162, 123, 0, 120, 403, 356, 147, 83, 197, 128, 569, 138, 287, 262, 208, 529, 252, 191, 137, 141, 445, 388, 247, 765, 276, 26, 461, 255, 368, 417, 467, 393, 339, 542, 279, 105, 238, 227, 693, 222, 226, 9, 136, 7, 99, 667, 438, 414, 663, 206, 656, 627, 348, 258, 116, 364, 63, 106, 90, 194, 131, 219, 731, 749, 608, 214, 611, 380, 306, 536, 248, 44, 410, 641, 411, 317, 764, 40, 409, 155, 22, 259, 498, 331, 45, 51, 64, 192, 153, 350, 93, 280, 344, 318, 261, 37, 144, 225, 617, 47, 94, 325, 198, 216, 295, 643, 14, 39, 158, 327, 163, 741, 550, 150, 25, 19, 727, 557, 12, 178, 301, 595, 76, 50, 31, 539, 236, 57, 263, 1, 735, 148, 84, 100, 62, 599, 175, 449, 756, 439, 166, 386, 209, 652, 404, 11, 351, 179, 151, 69, 185, 167, 283, 142, 714, 79, 183, 74, 3, 27, 42, 103, 684, 624, 538, 233, 33, 604, 554, 666, 199, 68, 180, 511, 647, 213, 674, 24, 157, 586, 430, 91, 422, 8, 46, 333, 111, 189, 231, 87, 419, 218, 468, 202, 519, 30, 580, 38, 29, 720, 750, 176, 564, 390, 278, 58, 588, 662, 359, 169, 443, 694, 165, 324, 472, 451, 297, 28, 78, 527, 205, 60)\n",
    "\n",
    "to_remove = set(to_remove_1).intersection(set(to_remove_2))\n",
    "print(to_remove)\n",
    "print(len(to_remove))"
   ]
  },
  {
   "cell_type": "code",
   "execution_count": null,
   "id": "7892cd60",
   "metadata": {},
   "outputs": [],
   "source": []
  }
 ],
 "metadata": {
  "kernelspec": {
   "display_name": "myenv",
   "language": "python",
   "name": "myenv"
  },
  "language_info": {
   "codemirror_mode": {
    "name": "ipython",
    "version": 3
   },
   "file_extension": ".py",
   "mimetype": "text/x-python",
   "name": "python",
   "nbconvert_exporter": "python",
   "pygments_lexer": "ipython3",
   "version": "3.11.4"
  }
 },
 "nbformat": 4,
 "nbformat_minor": 5
}
